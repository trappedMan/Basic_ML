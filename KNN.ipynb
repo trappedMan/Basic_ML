{
 "cells": [
  {
   "cell_type": "markdown",
   "id": "f3001870",
   "metadata": {},
   "source": [
    "# 기초머신러닝 Project2_KNN"
   ]
  },
  {
   "cell_type": "markdown",
   "id": "95087597",
   "metadata": {},
   "source": [
    "아래 이름, 학번을 작성하세요."
   ]
  },
  {
   "cell_type": "code",
   "execution_count": 171,
   "id": "42fd33eb",
   "metadata": {},
   "outputs": [],
   "source": [
    "project2_student_id = '20181650'\n",
    "project2_student_name = '안도현'"
   ]
  },
  {
   "cell_type": "markdown",
   "id": "87314d10",
   "metadata": {},
   "source": [
    "#  \n",
    "#  "
   ]
  },
  {
   "cell_type": "markdown",
   "id": "582b66ca",
   "metadata": {},
   "source": [
    "# Project2\n",
    "### -\t주어진 1NN 코드를 바탕으로 KNNClassifier가 되도록 KNNClassifier() 클래스를 작성 (OneNeighborClassifier()의 closest 함수를 수정하는 것을 포함한 여러 가지 방법 사용 가능)\n",
    "### -\t동일한 학습/테스트 데이터에 대하여 1NN, 3NN, 5NN, 7NN의 성능을 출력"
   ]
  },
  {
   "cell_type": "markdown",
   "id": "6ea6c6b0",
   "metadata": {},
   "source": [
    "### Example) 1NN "
   ]
  },
  {
   "cell_type": "code",
   "execution_count": 172,
   "id": "9d267388",
   "metadata": {},
   "outputs": [],
   "source": [
    "from sklearn import datasets\n",
    "from collections import Counter\n",
    "iris = datasets.load_iris()"
   ]
  },
  {
   "cell_type": "code",
   "execution_count": 173,
   "id": "63bcf03c",
   "metadata": {},
   "outputs": [],
   "source": [
    "X = iris.data\n",
    "# Iris.data contains the features or independent variables.\n",
    "y = iris.target\n",
    "# Iris.target contains the labels or the dependent variables."
   ]
  },
  {
   "cell_type": "code",
   "execution_count": 174,
   "id": "3e490a7d",
   "metadata": {},
   "outputs": [],
   "source": [
    "from sklearn.model_selection import train_test_split"
   ]
  },
  {
   "cell_type": "code",
   "execution_count": 175,
   "id": "c9eb9389",
   "metadata": {},
   "outputs": [],
   "source": [
    "X_train, X_test, y_train, y_test = train_test_split(X, y, test_size = 0.50)"
   ]
  },
  {
   "cell_type": "code",
   "execution_count": 176,
   "id": "402ba1af",
   "metadata": {},
   "outputs": [],
   "source": [
    "from scipy.spatial import distance  # Built in function called distance.\n",
    "\n",
    "                                    #Defining the n dimensional distance as euc.\n",
    "def euc(a,b):                       # Lists of numeric features. \n",
    "    return distance.euclidean(a,b)  # Measure and return the distance between 2 points \n",
    "                                    # i.e. the training point and a test point."
   ]
  },
  {
   "cell_type": "code",
   "execution_count": 177,
   "id": "4cc27993",
   "metadata": {},
   "outputs": [],
   "source": [
    "class OneNeighborClassifier():                # This 'class' has 2 Methods : Fit and Predict\n",
    "    \n",
    "    #Each step is followed by a comment which explains how the classifier is working \n",
    "    \n",
    "    def fit(self, X_train, y_train):          # Takes features and labels as input\n",
    "        self.X_train = X_train                # Storing the X_train in self.X_train\n",
    "        self.y_train = y_train                # Storing the y_train in self.y_train\n",
    "                                              # This is like the ML classifier will memorize the values \n",
    "        \n",
    "    def predict (self, X_test):               # Receives features from the testing data and returns predictions\n",
    "        predictions = []                      # List of predictions, since X_test is a 2D array or a list of lists.\n",
    "        for row in X_test:                    # Each row contains the features for one testing example\n",
    "            label = self.closest(row)         # We are calling the function that we are creating in the next block\n",
    "                                              # to find the closest training point from the test point\n",
    "            predictions.append(label)         # Add the labels to the predictions list to fill it.\n",
    "        return predictions                    # Return predictions as the output\n",
    "    \n",
    "    def closest(self, row):                   # Create the function closest such that -->\n",
    "        best_dist = euc(row, self.X_train[0]) # Measure the shortest distance a test point and the first train point\n",
    "        best_index = 0                        # Keep track of the index of the train point that is closest\n",
    "        for i in range (1, len(self.X_train)):# Iterate over the different training points\n",
    "            dist = euc(row, self.X_train[i])\n",
    "            if dist < best_dist:              # The moment we find a closer one, we update our variables.\n",
    "                best_dist = dist              # If dist is shorter than best_dist, then its the new best_dist\n",
    "                best_index = i                # Using the index of best_dist to return label of the closest training pt.\n",
    "        return self.y_train[best_index]       # Return that label"
   ]
  },
  {
   "cell_type": "code",
   "execution_count": 178,
   "id": "00d8e1cd",
   "metadata": {},
   "outputs": [],
   "source": [
    "my_classifier = OneNeighborClassifier()\n",
    "my_classifier.fit(X_train, y_train)"
   ]
  },
  {
   "cell_type": "code",
   "execution_count": 179,
   "id": "0f6dc00f",
   "metadata": {},
   "outputs": [],
   "source": [
    "pred = my_classifier.predict(X_test)"
   ]
  },
  {
   "cell_type": "code",
   "execution_count": 180,
   "id": "e89f9acf",
   "metadata": {},
   "outputs": [
    {
     "name": "stdout",
     "output_type": "stream",
     "text": [
      "Accuracy : 94.667%\n"
     ]
    }
   ],
   "source": [
    "from sklearn.metrics import accuracy_score\n",
    "#print ('Accuracy of the classifier is', accuracy_score(y_test, pred)*100, '3.2%')\n",
    "acc = accuracy_score(y_test, pred)*100\n",
    "print (f'Accuracy : {acc:.3f}%')"
   ]
  },
  {
   "cell_type": "markdown",
   "id": "6eef3fe9",
   "metadata": {},
   "source": [
    "#  \n",
    "#  "
   ]
  },
  {
   "cell_type": "markdown",
   "id": "e49f97a4",
   "metadata": {},
   "source": [
    "## Practice1"
   ]
  },
  {
   "cell_type": "markdown",
   "id": "0dd063f0",
   "metadata": {},
   "source": [
    "필요에 따라, 작성한 KNNClassifier 클래스에 맞추어 성능 확인을 위한 3개의 셀 수정 가능"
   ]
  },
  {
   "cell_type": "code",
   "execution_count": 181,
   "id": "72b88ae5",
   "metadata": {},
   "outputs": [],
   "source": [
    "class KNNClassifier():\n",
    "\n",
    "    def fit(self, X_train, y_train):\n",
    "        self.X_train = X_train\n",
    "        self.y_train = y_train          \n",
    "                                              \n",
    "        \n",
    "    def predict (self, X_test,k):\n",
    "        predictions = []\n",
    "        for row in X_test:\n",
    "            label = self.closest(row,k)\n",
    "            predictions.append(label)\n",
    "        return predictions\n",
    "    \n",
    "    def closest(self, row,k):\n",
    "        dist_list=[]#각 train set과의 거리 및 그 train set의 라벨을 저장할 리스트\n",
    "        for i in range(len(self.X_train)):\n",
    "            distval = euc(row, self.X_train[i])\n",
    "            labelval = self.y_train[i]\n",
    "            dist_list.append([distval,labelval])\n",
    "        dist_list.sort()#거리 기준으로 오름차순 정렬\n",
    "        target_list=dist_list[0:k]#target_list: 가장 거리가 짧은 k개를 뽑아낸 리스트\n",
    "        ans_list=[[0,0],[0,0],[0,0]]#3개의 라벨에 대하여 그 라벨이 나온 개수와 그 거리의 합을 저장할 리스트\n",
    "        for i in range(k):\n",
    "            c=target_list[i][1]\n",
    "            ans_list[c][0]+=1\n",
    "            ans_list[c][1]+=target_list[i][0]\n",
    "        best_label=0\n",
    "        best_n=ans_list[0][0]\n",
    "        best_dist=ans_list[0][1]\n",
    "        for i in range(1,3):\n",
    "            #더 많이 나온 라벨이거나, 나온 개수가 같은데 거리의 합이 더 적은 라벨이 best label이고, 그것을 리턴\n",
    "            if((ans_list[i][0] > best_n) or (ans_list[i][0]==best_n and ans_list[i][1]<best_dist)):\n",
    "                best_label=i\n",
    "                best_n=ans_list[i][0]\n",
    "                best_dist=ans_list[i][1]\n",
    "        return best_label"
   ]
  },
  {
   "cell_type": "code",
   "execution_count": 182,
   "id": "450dcdf8",
   "metadata": {},
   "outputs": [],
   "source": [
    "knn_classifier1 = KNNClassifier()\n",
    "knn_classifier1.fit(X_train, y_train)"
   ]
  },
  {
   "cell_type": "code",
   "execution_count": 183,
   "id": "9d250eea",
   "metadata": {},
   "outputs": [],
   "source": [
    "knn_pred1 = knn_classifier1.predict(X_test,1)"
   ]
  },
  {
   "cell_type": "code",
   "execution_count": 184,
   "id": "4ddbc2f4",
   "metadata": {},
   "outputs": [
    {
     "name": "stdout",
     "output_type": "stream",
     "text": [
      "Accuracy : 94.667%\n"
     ]
    }
   ],
   "source": [
    "knn_acc1 = accuracy_score(y_test, knn_pred1)*100\n",
    "print (f'Accuracy : {knn_acc1:.3f}%')"
   ]
  },
  {
   "cell_type": "markdown",
   "id": "afaa5686",
   "metadata": {},
   "source": [
    "##    "
   ]
  },
  {
   "cell_type": "code",
   "execution_count": 185,
   "id": "0dc2c385",
   "metadata": {},
   "outputs": [],
   "source": [
    "knn_classifier3 = KNNClassifier()\n",
    "knn_classifier3.fit(X_train, y_train)"
   ]
  },
  {
   "cell_type": "code",
   "execution_count": 186,
   "id": "5bf1e628",
   "metadata": {},
   "outputs": [],
   "source": [
    "knn_pred3 = knn_classifier3.predict(X_test,3)"
   ]
  },
  {
   "cell_type": "code",
   "execution_count": 187,
   "id": "b8d3afb0",
   "metadata": {},
   "outputs": [
    {
     "name": "stdout",
     "output_type": "stream",
     "text": [
      "Accuracy : 94.667%\n"
     ]
    }
   ],
   "source": [
    "knn_acc3 = accuracy_score(y_test, knn_pred3)*100\n",
    "print (f'Accuracy : {knn_acc3:.3f}%')"
   ]
  },
  {
   "cell_type": "markdown",
   "id": "20644466",
   "metadata": {},
   "source": [
    "##  "
   ]
  },
  {
   "cell_type": "code",
   "execution_count": 188,
   "id": "379d11bd",
   "metadata": {},
   "outputs": [],
   "source": [
    "knn_classifier5 = KNNClassifier()\n",
    "knn_classifier5.fit(X_train, y_train)"
   ]
  },
  {
   "cell_type": "code",
   "execution_count": 189,
   "id": "d1f58e2c",
   "metadata": {},
   "outputs": [],
   "source": [
    "knn_pred5 = knn_classifier5.predict(X_test,5)"
   ]
  },
  {
   "cell_type": "code",
   "execution_count": 190,
   "id": "d38b48ea",
   "metadata": {},
   "outputs": [
    {
     "name": "stdout",
     "output_type": "stream",
     "text": [
      "Accuracy : 96.000%\n"
     ]
    }
   ],
   "source": [
    "knn_acc5 = accuracy_score(y_test, knn_pred5)*100\n",
    "print (f'Accuracy : {knn_acc5:.3f}%')"
   ]
  },
  {
   "cell_type": "markdown",
   "id": "2e19629f",
   "metadata": {},
   "source": [
    "##  "
   ]
  },
  {
   "cell_type": "code",
   "execution_count": 191,
   "id": "d2c645fe",
   "metadata": {},
   "outputs": [],
   "source": [
    "knn_classifier7 = KNNClassifier()\n",
    "knn_classifier7.fit(X_train, y_train)"
   ]
  },
  {
   "cell_type": "code",
   "execution_count": 192,
   "id": "7d7ce734",
   "metadata": {},
   "outputs": [],
   "source": [
    "knn_pred7 = knn_classifier7.predict(X_test,7)"
   ]
  },
  {
   "cell_type": "code",
   "execution_count": 193,
   "id": "e1b65c98",
   "metadata": {},
   "outputs": [
    {
     "name": "stdout",
     "output_type": "stream",
     "text": [
      "Accuracy : 97.333%\n"
     ]
    }
   ],
   "source": [
    "knn_acc7 = accuracy_score(y_test, knn_pred7)*100\n",
    "print (f'Accuracy : {knn_acc7:.3f}%')"
   ]
  },
  {
   "cell_type": "markdown",
   "id": "ec987a6a",
   "metadata": {},
   "source": [
    "#   \n",
    "#  "
   ]
  },
  {
   "cell_type": "markdown",
   "id": "f72f1a5e",
   "metadata": {},
   "source": [
    "# 결과 확인용\n",
    "수정금지 - 조교"
   ]
  },
  {
   "cell_type": "code",
   "execution_count": 194,
   "id": "fc42a24a",
   "metadata": {},
   "outputs": [
    {
     "name": "stdout",
     "output_type": "stream",
     "text": [
      "학번: 20181650\n",
      "이름: 안도현\n"
     ]
    }
   ],
   "source": [
    "print(f'학번: {project2_student_id}')\n",
    "print(f'이름: {project2_student_name}')"
   ]
  },
  {
   "cell_type": "code",
   "execution_count": 195,
   "id": "7412ca95",
   "metadata": {},
   "outputs": [
    {
     "name": "stdout",
     "output_type": "stream",
     "text": [
      "Accuracy : 94.667%\n"
     ]
    }
   ],
   "source": [
    "knn_acc1 = accuracy_score(y_test, knn_pred1)*100\n",
    "print (f'Accuracy : {knn_acc1:.3f}%')"
   ]
  },
  {
   "cell_type": "code",
   "execution_count": 196,
   "id": "d98adb75",
   "metadata": {},
   "outputs": [
    {
     "name": "stdout",
     "output_type": "stream",
     "text": [
      "Accuracy : 94.667%\n"
     ]
    }
   ],
   "source": [
    "knn_acc3 = accuracy_score(y_test, knn_pred3)*100\n",
    "print (f'Accuracy : {knn_acc3:.3f}%')"
   ]
  },
  {
   "cell_type": "code",
   "execution_count": 197,
   "id": "85978867",
   "metadata": {},
   "outputs": [
    {
     "name": "stdout",
     "output_type": "stream",
     "text": [
      "Accuracy : 96.000%\n"
     ]
    }
   ],
   "source": [
    "knn_acc5 = accuracy_score(y_test, knn_pred5)*100\n",
    "print (f'Accuracy : {knn_acc5:.3f}%')"
   ]
  },
  {
   "cell_type": "code",
   "execution_count": 198,
   "id": "7da0ced3",
   "metadata": {},
   "outputs": [
    {
     "name": "stdout",
     "output_type": "stream",
     "text": [
      "Accuracy : 97.333%\n"
     ]
    }
   ],
   "source": [
    "knn_acc7 = accuracy_score(y_test, knn_pred7)*100\n",
    "print (f'Accuracy : {knn_acc7:.3f}%')"
   ]
  }
 ],
 "metadata": {
  "kernelspec": {
   "display_name": "Python 3 (ipykernel)",
   "language": "python",
   "name": "python3"
  },
  "language_info": {
   "codemirror_mode": {
    "name": "ipython",
    "version": 3
   },
   "file_extension": ".py",
   "mimetype": "text/x-python",
   "name": "python",
   "nbconvert_exporter": "python",
   "pygments_lexer": "ipython3",
   "version": "3.10.2"
  }
 },
 "nbformat": 4,
 "nbformat_minor": 5
}
